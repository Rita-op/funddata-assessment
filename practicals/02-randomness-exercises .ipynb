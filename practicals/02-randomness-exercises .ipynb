{
 "cells": [
  {
   "cell_type": "markdown",
   "id": "3d7e9f4e",
   "metadata": {},
   "source": [
    "# <font color=green>Topic 2: Randomness</font>\n",
    "<hr style=\"border-top: 1px solid #000000;\" />\n",
    "\n",
    "<div class=\"alert alert-warning\">This Jupyter notebook contains the solution to the exercises proposed in topic 2 of the module.</div>\n"
   ]
  },
  {
   "cell_type": "markdown",
   "id": "3f4e923e",
   "metadata": {},
   "source": [
    "\n",
    "\n",
    "### *Exercise 1*\n",
    "\n",
    "<hr style=\"border-top: 1px solid #000000;\" />\n",
    "\n",
    "***It is somewhat interesting that***`(5 * 4 * 3 * 2 * 1)` ***perfectly divides*** `(10 * 9 * 8 * 7 * 6)` ***- there's no remainder.***\n",
    "\n",
    "***If we only wanted exactly four heads as opposed to five, the equivalent calculation would be*** `(10 * 9 * 8 * 7) / (4 * 3 * 2 * 1)`***.***\n",
    "\n",
    "***Does that evenly divide too? What is the formula in general?***\n",
    "\n",
    "***Does it always come out as a positive whole number?***\n",
    "\n",
    "\n"
   ]
  },
  {
   "cell_type": "markdown",
   "id": "3bfd06c8",
   "metadata": {},
   "source": [
    "Let's start answering the first question we are asked about for the case where we only want exactly four heads. We need to check if the division to perform in this case has no remainder as well. In order to do that, I am going to make use of python code."
   ]
  },
  {
   "cell_type": "code",
   "execution_count": 1,
   "id": "aadeff8c",
   "metadata": {},
   "outputs": [
    {
     "data": {
      "text/plain": [
       "210.0"
      ]
     },
     "execution_count": 1,
     "metadata": {},
     "output_type": "execute_result"
    }
   ],
   "source": [
    "# Perform the division for the case when we would like to get four heads.\n",
    "(10 * 9 * 8 * 7) / (4 * 3 * 2 * 1)"
   ]
  },
  {
   "cell_type": "code",
   "execution_count": 2,
   "id": "67827701",
   "metadata": {},
   "outputs": [
    {
     "data": {
      "text/plain": [
       "0"
      ]
     },
     "execution_count": 2,
     "metadata": {},
     "output_type": "execute_result"
    }
   ],
   "source": [
    "# Obtain the remainder of the division as double check.\n",
    "(10 * 9 * 8 * 7) % (4 * 3 * 2 * 1)"
   ]
  },
  {
   "cell_type": "markdown",
   "id": "dc61e0e9",
   "metadata": {},
   "source": [
    "As per the result obtained, we can confirm that this division has no remainder as well. \n",
    "\n",
    "Once this is confirmed, let's proceed to answer the second question and find out the general formula to be used for this calculation. We need to find a formula that counts the number of possibilities to obtain the desired result given a collection of items. After some research on the internet, the findings obtained are shown in the following lines. \n",
    "\n",
    "It was found a formula in the area of discrete mathematics called combination without replacement. This formula is used when we need to find the number of possible different groups of *r* objects we can create given a set of *n* objects. In this selection we do not take into account the order in which objects are selected.\n",
    "\n",
    "The formula of the combination without replacement is given by: \n",
    "\n",
    "$$\n",
    "C(n,r) = \\frac{n!}{r!(n-r)!}\n",
    "$$\n",
    "\n",
    "where n is the number of objects to choose from and r is the number of objects selected.\n",
    "\n",
    "We proceed to show that using this formula we will obtain the same result exposed in the previous lines for the case in which we want to obtain all the possible combinations of getting 4 heads after flipping a coin 10 times.\n",
    "\n",
    "$$\n",
    "C(n,r) = \\frac{10 * 9 *8 *7 *6 * 5 * 4 * 3 * 2 * 1}{(4 * 3 * 2 * 1) * (6 * 5 * 4 * 3 * 2 * 1)}\n",
    "$$\n",
    "\n",
    "After some simplifications we obtain the following, which is the same result shown in the exercise statement: \n",
    "\n",
    "$$\n",
    "C(n,r) = \\frac{10 * 9 *8 *7}{4 * 3 * 2 * 1}\n",
    "$$"
   ]
  },
  {
   "cell_type": "code",
   "execution_count": 3,
   "id": "b780413d",
   "metadata": {},
   "outputs": [
    {
     "data": {
      "text/plain": [
       "210.0"
      ]
     },
     "execution_count": 3,
     "metadata": {},
     "output_type": "execute_result"
    }
   ],
   "source": [
    "# Perform the calculation shown above before the simplification.\n",
    "(10 * 9 * 8 * 7 * 6 * 5 * 4 * 3 * 2 * 1) /((4 * 3 * 2 * 1) * (6 * 5 * 4 * 3 * 2 * 1))"
   ]
  },
  {
   "cell_type": "markdown",
   "id": "248031a4",
   "metadata": {},
   "source": [
    "Lastly, regarding the question about if the formula always comes out as a positive whole number the answer is affirmative. If we analyze the elementes which make up the formula:\n",
    "\n",
    "n = the number of objects to choose from\n",
    "<br>\n",
    "r = the number of objects selected\n",
    "\n",
    "We can see that given their definition, the calculation would be always a positive whole number. "
   ]
  },
  {
   "cell_type": "markdown",
   "id": "b52f2523",
   "metadata": {},
   "source": [
    "### *Exercise 2*\n",
    "\n",
    "<hr style=\"border-top: 1px solid #000000;\" />\n",
    "\n",
    "***Note that there are the same number of ways to get 4 tails as there to get 4 heads. Explain why this is.***"
   ]
  },
  {
   "cell_type": "markdown",
   "id": "43ecad2a",
   "metadata": {},
   "source": [
    "### References\n",
    "\n",
    "- https://towardsdatascience.com/enrich-your-jupyter-notebook-with-these-tips-55c8ead25255\n",
    "- https://jupyterbook.org/en/stable/content/math.html\n",
    "- https://stackoverflow.com/questions/41906199/how-to-make-a-new-line-in-a-jupyter-markdown-cell\n",
    "- https://study.com/learn/lesson/combination-formula-calculate.html\n",
    "- https://www.cuemath.com/data/combinations/\n",
    "- https://www.tutorialspoint.com/statistics/combination.htm\n"
   ]
  }
 ],
 "metadata": {
  "kernelspec": {
   "display_name": "Python 3 (ipykernel)",
   "language": "python",
   "name": "python3"
  },
  "language_info": {
   "codemirror_mode": {
    "name": "ipython",
    "version": 3
   },
   "file_extension": ".py",
   "mimetype": "text/x-python",
   "name": "python",
   "nbconvert_exporter": "python",
   "pygments_lexer": "ipython3",
   "version": "3.9.13"
  }
 },
 "nbformat": 4,
 "nbformat_minor": 5
}
